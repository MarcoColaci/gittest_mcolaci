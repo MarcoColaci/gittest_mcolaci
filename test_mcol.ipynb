{
  "nbformat": 4,
  "nbformat_minor": 0,
  "metadata": {
    "colab": {
      "name": "test_mcol.ipynb",
      "provenance": [],
      "collapsed_sections": [],
      "authorship_tag": "ABX9TyMAEghVMF4JdPQ+k5kBFogx",
      "include_colab_link": true
    },
    "kernelspec": {
      "name": "python3",
      "display_name": "Python 3"
    }
  },
  "cells": [
    {
      "cell_type": "markdown",
      "metadata": {
        "id": "view-in-github",
        "colab_type": "text"
      },
      "source": [
        "<a href=\"https://colab.research.google.com/github/MarcoColaci/gittest_mcolaci/blob/main/test_mcol.ipynb\" target=\"_parent\"><img src=\"https://colab.research.google.com/assets/colab-badge.svg\" alt=\"Open In Colab\"/></a>"
      ]
    },
    {
      "cell_type": "code",
      "metadata": {
        "colab": {
          "base_uri": "https://localhost:8080/"
        },
        "id": "WeN_inS9dCFq",
        "outputId": "f747adfe-1e1c-4a36-e5f9-e9efd499e5f8"
      },
      "source": [
        "print(\"hello\")\r\n"
      ],
      "execution_count": 35,
      "outputs": [
        {
          "output_type": "stream",
          "text": [
            "hello\n"
          ],
          "name": "stdout"
        }
      ]
    },
    {
      "cell_type": "code",
      "metadata": {
        "id": "rJ9R4P6lVzBx"
      },
      "source": [
        "from __future__ import print_function, division \r\n"
      ],
      "execution_count": 36,
      "outputs": []
    },
    {
      "cell_type": "markdown",
      "metadata": {
        "id": "0IJHafmaVyUU"
      },
      "source": [
        "# Native python Variables\r\n"
      ]
    },
    {
      "cell_type": "markdown",
      "metadata": {
        "id": "u3kATI7-Wzzd"
      },
      "source": [
        "## Lesson 1\r\n"
      ]
    },
    {
      "cell_type": "code",
      "metadata": {
        "id": "UltQwvBggEJl"
      },
      "source": [
        "stringVariable='hello'"
      ],
      "execution_count": 37,
      "outputs": []
    },
    {
      "cell_type": "code",
      "metadata": {
        "colab": {
          "base_uri": "https://localhost:8080/"
        },
        "id": "ANSyWL69gUZd",
        "outputId": "ee8bdf03-a0ae-42a7-ef80-171aeea4df79"
      },
      "source": [
        "print('stringVariable')"
      ],
      "execution_count": 38,
      "outputs": [
        {
          "output_type": "stream",
          "text": [
            "stringVariable\n"
          ],
          "name": "stdout"
        }
      ]
    },
    {
      "cell_type": "code",
      "metadata": {
        "colab": {
          "base_uri": "https://localhost:8080/"
        },
        "id": "ZoYwmMhCYKaA",
        "outputId": "6844b123-d336-4927-e76b-c436ecaa677c"
      },
      "source": [
        "print(stringVariable)"
      ],
      "execution_count": 39,
      "outputs": [
        {
          "output_type": "stream",
          "text": [
            "hello\n"
          ],
          "name": "stdout"
        }
      ]
    },
    {
      "cell_type": "code",
      "metadata": {
        "colab": {
          "base_uri": "https://localhost:8080/"
        },
        "id": "krgEldXDglbM",
        "outputId": "454790e4-7138-4f5f-a044-3cdd5d75ecc7"
      },
      "source": [
        "intVariable = 3\r\n",
        "type(intVariable)"
      ],
      "execution_count": 40,
      "outputs": [
        {
          "output_type": "execute_result",
          "data": {
            "text/plain": [
              "int"
            ]
          },
          "metadata": {
            "tags": []
          },
          "execution_count": 40
        }
      ]
    },
    {
      "cell_type": "code",
      "metadata": {
        "colab": {
          "base_uri": "https://localhost:8080/"
        },
        "id": "AZQlvgg5hG0u",
        "outputId": "7d48ad13-3d17-4185-ee6c-166d2328d65c"
      },
      "source": [
        "floatVar=3.\r\n",
        "type(floatVar)"
      ],
      "execution_count": 41,
      "outputs": [
        {
          "output_type": "execute_result",
          "data": {
            "text/plain": [
              "float"
            ]
          },
          "metadata": {
            "tags": []
          },
          "execution_count": 41
        }
      ]
    },
    {
      "cell_type": "code",
      "metadata": {
        "colab": {
          "base_uri": "https://localhost:8080/"
        },
        "id": "6atP0SlHhP16",
        "outputId": "be4ea83b-9f34-4e49-cd94-71a46e01aeff"
      },
      "source": [
        "intVariable*floatVar\r\n",
        "#This is a comment "
      ],
      "execution_count": 42,
      "outputs": [
        {
          "output_type": "execute_result",
          "data": {
            "text/plain": [
              "9.0"
            ]
          },
          "metadata": {
            "tags": []
          },
          "execution_count": 42
        }
      ]
    },
    {
      "cell_type": "code",
      "metadata": {
        "colab": {
          "base_uri": "https://localhost:8080/"
        },
        "id": "JgslYR3ehUsv",
        "outputId": "b86223bf-0680-413e-f110-dc1ce5952e5c"
      },
      "source": [
        "int(intVariable*floatVar)"
      ],
      "execution_count": 43,
      "outputs": [
        {
          "output_type": "execute_result",
          "data": {
            "text/plain": [
              "9"
            ]
          },
          "metadata": {
            "tags": []
          },
          "execution_count": 43
        }
      ]
    },
    {
      "cell_type": "code",
      "metadata": {
        "colab": {
          "base_uri": "https://localhost:8080/",
          "height": 35
        },
        "id": "uymGZBghhzZJ",
        "outputId": "09a0e0bf-92c2-4321-bc32-a1d6979de30a"
      },
      "source": [
        "str(intVariable*floatVar)"
      ],
      "execution_count": 44,
      "outputs": [
        {
          "output_type": "execute_result",
          "data": {
            "application/vnd.google.colaboratory.intrinsic+json": {
              "type": "string"
            },
            "text/plain": [
              "'9.0'"
            ]
          },
          "metadata": {
            "tags": []
          },
          "execution_count": 44
        }
      ]
    },
    {
      "cell_type": "code",
      "metadata": {
        "id": "4WCO1yvAh4qc"
      },
      "source": [
        "boolVar=True"
      ],
      "execution_count": 45,
      "outputs": []
    },
    {
      "cell_type": "code",
      "metadata": {
        "colab": {
          "base_uri": "https://localhost:8080/"
        },
        "id": "gdwwk85_h__w",
        "outputId": "53aa1370-e6cb-46a4-b61d-c1a62aa199a0"
      },
      "source": [
        "boolVar"
      ],
      "execution_count": 46,
      "outputs": [
        {
          "output_type": "execute_result",
          "data": {
            "text/plain": [
              "True"
            ]
          },
          "metadata": {
            "tags": []
          },
          "execution_count": 46
        }
      ]
    },
    {
      "cell_type": "code",
      "metadata": {
        "colab": {
          "base_uri": "https://localhost:8080/"
        },
        "id": "08yRJ9UAiFNy",
        "outputId": "8f2ff283-aa07-4397-a475-389ba65edeca"
      },
      "source": [
        "if type(floatVar)==float: \r\n",
        "  print('yesits')"
      ],
      "execution_count": 47,
      "outputs": [
        {
          "output_type": "stream",
          "text": [
            "yesits\n"
          ],
          "name": "stdout"
        }
      ]
    },
    {
      "cell_type": "code",
      "metadata": {
        "colab": {
          "base_uri": "https://localhost:8080/"
        },
        "id": "ZrE6L1z1iuLY",
        "outputId": "b06a666a-e275-4708-df32-d4b33dff3a2f"
      },
      "source": [
        "if not type(floatVar)==float: \r\n",
        "  print('yesits')\r\n",
        "else : \r\n",
        "    print('nope')"
      ],
      "execution_count": 48,
      "outputs": [
        {
          "output_type": "stream",
          "text": [
            "nope\n"
          ],
          "name": "stdout"
        }
      ]
    },
    {
      "cell_type": "code",
      "metadata": {
        "colab": {
          "base_uri": "https://localhost:8080/"
        },
        "id": "B0WI0Et-i4-h",
        "outputId": "175a8cec-a3e7-449e-dbd2-b457f980f7de"
      },
      "source": [
        "if 0: \r\n",
        "  print(\"no\")\r\n",
        "else:  \r\n",
        "     print('yes')  "
      ],
      "execution_count": 49,
      "outputs": [
        {
          "output_type": "stream",
          "text": [
            "yes\n"
          ],
          "name": "stdout"
        }
      ]
    },
    {
      "cell_type": "code",
      "metadata": {
        "colab": {
          "base_uri": "https://localhost:8080/"
        },
        "id": "rnOiO8KsjOgo",
        "outputId": "ef447e38-cf9e-42f0-a236-a24efded4ac5"
      },
      "source": [
        "if 2: \r\n",
        "  print(\"no\")\r\n",
        "else:  \r\n",
        "     print('yes') "
      ],
      "execution_count": 50,
      "outputs": [
        {
          "output_type": "stream",
          "text": [
            "no\n"
          ],
          "name": "stdout"
        }
      ]
    },
    {
      "cell_type": "code",
      "metadata": {
        "colab": {
          "base_uri": "https://localhost:8080/"
        },
        "id": "MG1DYTCljV2r",
        "outputId": "c90e034d-9503-4a26-ac13-b97ff5a214c3"
      },
      "source": [
        "if -1: \r\n",
        "  print(\"no\")\r\n",
        "else:  \r\n",
        "     print('yes') "
      ],
      "execution_count": 51,
      "outputs": [
        {
          "output_type": "stream",
          "text": [
            "no\n"
          ],
          "name": "stdout"
        }
      ]
    },
    {
      "cell_type": "code",
      "metadata": {
        "colab": {
          "base_uri": "https://localhost:8080/"
        },
        "id": "bbM-CMGyjYzU",
        "outputId": "b6e46f2e-7146-4430-9499-522d1d166e03"
      },
      "source": [
        "if type(floatVar)== float or floatVar < 0:\r\n",
        "  print('yeah')"
      ],
      "execution_count": 52,
      "outputs": [
        {
          "output_type": "stream",
          "text": [
            "yeah\n"
          ],
          "name": "stdout"
        }
      ]
    },
    {
      "cell_type": "code",
      "metadata": {
        "id": "GgxlW0zxjm2O"
      },
      "source": [
        "if (type(floatVar)== float) * (floatVar < 0):\r\n",
        "  print('yeah')"
      ],
      "execution_count": 53,
      "outputs": []
    },
    {
      "cell_type": "code",
      "metadata": {
        "colab": {
          "base_uri": "https://localhost:8080/"
        },
        "id": "rQiWmjWaj1_k",
        "outputId": "6266b049-f6af-47cd-900b-dd34f466224f"
      },
      "source": [
        "if (type(floatVar)== float) + (floatVar < 0):\r\n",
        "  print('yeah')"
      ],
      "execution_count": 54,
      "outputs": [
        {
          "output_type": "stream",
          "text": [
            "yeah\n"
          ],
          "name": "stdout"
        }
      ]
    },
    {
      "cell_type": "code",
      "metadata": {
        "colab": {
          "base_uri": "https://localhost:8080/"
        },
        "id": "YS15S62fjz3G",
        "outputId": "830c540d-b14d-4da6-fa9a-55fb5c1437c4"
      },
      "source": [
        "for a in range(10):\r\n",
        "  print (a)"
      ],
      "execution_count": 55,
      "outputs": [
        {
          "output_type": "stream",
          "text": [
            "0\n",
            "1\n",
            "2\n",
            "3\n",
            "4\n",
            "5\n",
            "6\n",
            "7\n",
            "8\n",
            "9\n"
          ],
          "name": "stdout"
        }
      ]
    },
    {
      "cell_type": "code",
      "metadata": {
        "colab": {
          "base_uri": "https://localhost:8080/"
        },
        "id": "5RJdr4BcZE7z",
        "outputId": "9e1b924a-78e3-41b5-d5f2-de187a289e40"
      },
      "source": [
        "for a in range(10):\r\n",
        "   print()\r\n",
        "print(a)"
      ],
      "execution_count": 56,
      "outputs": [
        {
          "output_type": "stream",
          "text": [
            "\n",
            "\n",
            "\n",
            "\n",
            "\n",
            "\n",
            "\n",
            "\n",
            "\n",
            "\n",
            "9\n"
          ],
          "name": "stdout"
        }
      ]
    },
    {
      "cell_type": "code",
      "metadata": {
        "colab": {
          "base_uri": "https://localhost:8080/"
        },
        "id": "OljKldKbkAzN",
        "outputId": "ffac0606-b352-4896-9dce-0964708114b0"
      },
      "source": [
        "a=0\r\n",
        "while a is not 10 :\r\n",
        "  a=a+1\r\n",
        "  print(a)"
      ],
      "execution_count": 57,
      "outputs": [
        {
          "output_type": "stream",
          "text": [
            "1\n",
            "2\n",
            "3\n",
            "4\n",
            "5\n",
            "6\n",
            "7\n",
            "8\n",
            "9\n",
            "10\n"
          ],
          "name": "stdout"
        }
      ]
    },
    {
      "cell_type": "markdown",
      "metadata": {
        "id": "1rn3R5ErkGYo"
      },
      "source": [
        "## Lesson 2"
      ]
    },
    {
      "cell_type": "markdown",
      "metadata": {
        "id": "Qs5niLkSYrfA"
      },
      "source": [
        "### Variables Container"
      ]
    },
    {
      "cell_type": "code",
      "metadata": {
        "colab": {
          "base_uri": "https://localhost:8080/"
        },
        "id": "XgArRkh_YuRG",
        "outputId": "6e679fae-d3b4-4fa8-f74d-a09ff75d6591"
      },
      "source": [
        "# variables list can contains different types of vairable \r\n",
        "# ogni elemento occupa differenti numero di bit\r\n",
        "# Don't use list for efficient code \r\n",
        "# Fist element of and object is 0\r\n",
        "myList=[0,1,2,'hello',3.5,[0,2,3.3]]\r\n",
        "myList"
      ],
      "execution_count": 65,
      "outputs": [
        {
          "output_type": "execute_result",
          "data": {
            "text/plain": [
              "[0, 1, 2, 'hello', 3.5, [0, 2, 3.3]]"
            ]
          },
          "metadata": {
            "tags": []
          },
          "execution_count": 65
        }
      ]
    },
    {
      "cell_type": "code",
      "metadata": {
        "colab": {
          "base_uri": "https://localhost:8080/"
        },
        "id": "oGjouOsCaSOW",
        "outputId": "b788692d-e6ef-4d9e-de3d-6fd3d4b7c5da"
      },
      "source": [
        "type(myList)"
      ],
      "execution_count": 61,
      "outputs": [
        {
          "output_type": "execute_result",
          "data": {
            "text/plain": [
              "list"
            ]
          },
          "metadata": {
            "tags": []
          },
          "execution_count": 61
        }
      ]
    },
    {
      "cell_type": "code",
      "metadata": {
        "colab": {
          "base_uri": "https://localhost:8080/"
        },
        "id": "_MTDfkKFab1c",
        "outputId": "d8a2f1fe-a6f2-4fc3-9d5b-4883e99eea39"
      },
      "source": [
        "myList[-1]"
      ],
      "execution_count": 66,
      "outputs": [
        {
          "output_type": "execute_result",
          "data": {
            "text/plain": [
              "[0, 2, 3.3]"
            ]
          },
          "metadata": {
            "tags": []
          },
          "execution_count": 66
        }
      ]
    },
    {
      "cell_type": "code",
      "metadata": {
        "colab": {
          "base_uri": "https://localhost:8080/",
          "height": 35
        },
        "id": "4sPiXACNa9A9",
        "outputId": "9d79ae1d-8050-4cd8-c6c3-73b9ee9db5da"
      },
      "source": [
        "stringVariable"
      ],
      "execution_count": 67,
      "outputs": [
        {
          "output_type": "execute_result",
          "data": {
            "application/vnd.google.colaboratory.intrinsic+json": {
              "type": "string"
            },
            "text/plain": [
              "'hello'"
            ]
          },
          "metadata": {
            "tags": []
          },
          "execution_count": 67
        }
      ]
    },
    {
      "cell_type": "code",
      "metadata": {
        "colab": {
          "base_uri": "https://localhost:8080/",
          "height": 35
        },
        "id": "Y2-o3lvJbJiR",
        "outputId": "a6ffb932-751f-4303-9364-a03d6e581a3e"
      },
      "source": [
        "stringVariable[1]"
      ],
      "execution_count": 68,
      "outputs": [
        {
          "output_type": "execute_result",
          "data": {
            "application/vnd.google.colaboratory.intrinsic+json": {
              "type": "string"
            },
            "text/plain": [
              "'e'"
            ]
          },
          "metadata": {
            "tags": []
          },
          "execution_count": 68
        }
      ]
    },
    {
      "cell_type": "code",
      "metadata": {
        "colab": {
          "base_uri": "https://localhost:8080/"
        },
        "id": "0LsM3VnmbMH8",
        "outputId": "1df6c68c-769a-491c-b395-770076152803"
      },
      "source": [
        "intVariable + floatVar"
      ],
      "execution_count": 69,
      "outputs": [
        {
          "output_type": "execute_result",
          "data": {
            "text/plain": [
              "6.0"
            ]
          },
          "metadata": {
            "tags": []
          },
          "execution_count": 69
        }
      ]
    },
    {
      "cell_type": "code",
      "metadata": {
        "colab": {
          "base_uri": "https://localhost:8080/",
          "height": 35
        },
        "id": "Z-Y_DFBtbPxR",
        "outputId": "537e1ad7-13de-404e-8641-73bfaa35232b"
      },
      "source": [
        "#Concatena stringe \r\n",
        "# Le stringe si comportano come lista\r\n",
        "stringVariable + stringVariable"
      ],
      "execution_count": 70,
      "outputs": [
        {
          "output_type": "execute_result",
          "data": {
            "application/vnd.google.colaboratory.intrinsic+json": {
              "type": "string"
            },
            "text/plain": [
              "'hellohello'"
            ]
          },
          "metadata": {
            "tags": []
          },
          "execution_count": 70
        }
      ]
    },
    {
      "cell_type": "code",
      "metadata": {
        "colab": {
          "base_uri": "https://localhost:8080/"
        },
        "id": "oFOHFJ3wbTP_",
        "outputId": "4631af03-85d6-42e1-ad7f-f7eb7d8447bd"
      },
      "source": [
        "# a can use + to change row only if im in parathesis\r\n",
        "print('Im in Parma and i ' + \r\n",
        "      'Heii')"
      ],
      "execution_count": 71,
      "outputs": [
        {
          "output_type": "stream",
          "text": [
            "Im in Parma and i Heii\n"
          ],
          "name": "stdout"
        }
      ]
    },
    {
      "cell_type": "code",
      "metadata": {
        "colab": {
          "base_uri": "https://localhost:8080/"
        },
        "id": "X5CmyvWMb1pT",
        "outputId": "f7ec7be1-ab0b-4b51-dc52-2b973138e0ae"
      },
      "source": [
        "print(myList+myList)"
      ],
      "execution_count": 73,
      "outputs": [
        {
          "output_type": "stream",
          "text": [
            "[0, 1, 2, 'hello', 3.5, [0, 2, 3.3], 0, 1, 2, 'hello', 3.5, [0, 2, 3.3]]\n"
          ],
          "name": "stdout"
        }
      ]
    },
    {
      "cell_type": "code",
      "metadata": {
        "id": "O-k8fz7_b6NT"
      },
      "source": [
        "tmplist=[]\r\n",
        "for a in range (22):\r\n",
        "  tmplist.append(a**2)"
      ],
      "execution_count": null,
      "outputs": []
    },
    {
      "cell_type": "code",
      "metadata": {
        "id": "Ru07jcSvcQ_S"
      },
      "source": [
        "tmp1list=[]\r\n",
        "a=0\r\n",
        "while a**2<200:\r\n",
        "  a=a+1\r\n",
        "  tmp1list.append(a**2)"
      ],
      "execution_count": 79,
      "outputs": []
    },
    {
      "cell_type": "markdown",
      "metadata": {
        "id": "izVqymsCckV-"
      },
      "source": [
        "list are really useful cause they can contains hybrid types an because they do not need to be allocated memory before they are filled so i can append things on the fly \r\n",
        "List are also useful "
      ]
    },
    {
      "cell_type": "code",
      "metadata": {
        "id": "VqzGEX3qdVWH"
      },
      "source": [
        "# any element of dictionary have a name\r\n",
        "# 'key...':.. associa il nome all'elemento\r\n",
        "dictVariable={'keyInt':0, \r\n",
        "              'keyFloat': 0.3,\r\n",
        "              'keyString':'Im a string',\r\n",
        "              'keyDict': {}     }\r\n",
        "#The last element is a dictionary in a dictionary (Nested dictionary)"
      ],
      "execution_count": 85,
      "outputs": []
    },
    {
      "cell_type": "code",
      "metadata": {
        "id": "tztKpCdAeEUQ"
      },
      "source": [
        "# I can associate a variable to a nested dictionary ater\r\n",
        "dictVariable['keyList'].append(0)"
      ],
      "execution_count": 88,
      "outputs": []
    },
    {
      "cell_type": "code",
      "metadata": {
        "colab": {
          "base_uri": "https://localhost:8080/"
        },
        "id": "OLU39ZY2eVp9",
        "outputId": "5738a1f9-3745-4c67-fea1-3f72da37ed0a"
      },
      "source": [
        "dictVariable"
      ],
      "execution_count": 89,
      "outputs": [
        {
          "output_type": "execute_result",
          "data": {
            "text/plain": [
              "{'keyDict': {},\n",
              " 'keyFloat': 0.3,\n",
              " 'keyInt': 0,\n",
              " 'keyList': [0],\n",
              " 'keyString': 'Im a string'}"
            ]
          },
          "metadata": {
            "tags": []
          },
          "execution_count": 89
        }
      ]
    },
    {
      "cell_type": "code",
      "metadata": {
        "colab": {
          "base_uri": "https://localhost:8080/",
          "height": 35
        },
        "id": "yNnd4L34eYwP",
        "outputId": "f88c5fbe-4853-4d1a-9825-fa6134f521f1"
      },
      "source": [
        "stringVariable"
      ],
      "execution_count": 90,
      "outputs": [
        {
          "output_type": "execute_result",
          "data": {
            "application/vnd.google.colaboratory.intrinsic+json": {
              "type": "string"
            },
            "text/plain": [
              "'hello'"
            ]
          },
          "metadata": {
            "tags": []
          },
          "execution_count": 90
        }
      ]
    },
    {
      "cell_type": "code",
      "metadata": {
        "colab": {
          "base_uri": "https://localhost:8080/",
          "height": 35
        },
        "id": "_jSeIhKkfa9x",
        "outputId": "2a9a3732-36dd-40b6-d480-654f07ce3707"
      },
      "source": [
        "# Nome della variabile. (dopo il punto metto ila proprietà(è una funzione)\r\n",
        "#agisce sulla variabile stessa\r\n",
        "stringVariable.capitalize()"
      ],
      "execution_count": 92,
      "outputs": [
        {
          "output_type": "execute_result",
          "data": {
            "application/vnd.google.colaboratory.intrinsic+json": {
              "type": "string"
            },
            "text/plain": [
              "'Hello'"
            ]
          },
          "metadata": {
            "tags": []
          },
          "execution_count": 92
        }
      ]
    },
    {
      "cell_type": "code",
      "metadata": {
        "id": "EwIKOMt2f3e5"
      },
      "source": [
        "stringVariable.capitalize"
      ],
      "execution_count": null,
      "outputs": []
    },
    {
      "cell_type": "code",
      "metadata": {
        "colab": {
          "base_uri": "https://localhost:8080/",
          "height": 35
        },
        "id": "xyIlSDUygDKt",
        "outputId": "3d2e81d9-40fb-43e8-a71e-98cf56d77fa8"
      },
      "source": [
        "strVar='Hello!!!'\r\n",
        "stringVariable.replace('!','')\r\n"
      ],
      "execution_count": 95,
      "outputs": [
        {
          "output_type": "execute_result",
          "data": {
            "application/vnd.google.colaboratory.intrinsic+json": {
              "type": "string"
            },
            "text/plain": [
              "'hello'"
            ]
          },
          "metadata": {
            "tags": []
          },
          "execution_count": 95
        }
      ]
    },
    {
      "cell_type": "code",
      "metadata": {
        "colab": {
          "base_uri": "https://localhost:8080/"
        },
        "id": "lOYiW1V2gYGU",
        "outputId": "904012a5-8e85-445e-a1a5-6240de14b0c2"
      },
      "source": [
        "stringVariable='Hello!!!';\r\n",
        "print(stringVariable)"
      ],
      "execution_count": 98,
      "outputs": [
        {
          "output_type": "stream",
          "text": [
            "Hello!!!\n"
          ],
          "name": "stdout"
        }
      ]
    },
    {
      "cell_type": "code",
      "metadata": {
        "id": "MLj9hkPMgw6J"
      },
      "source": [
        ""
      ],
      "execution_count": null,
      "outputs": []
    }
  ]
}